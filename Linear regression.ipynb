{
 "cells": [
  {
   "cell_type": "code",
   "execution_count": 1,
   "id": "f6809af3",
   "metadata": {},
   "outputs": [
    {
     "ename": "SyntaxError",
     "evalue": "invalid syntax (2121078614.py, line 2)",
     "output_type": "error",
     "traceback": [
      "\u001b[1;36m  Cell \u001b[1;32mIn[1], line 2\u001b[1;36m\u001b[0m\n\u001b[1;33m    import numpy ads np\u001b[0m\n\u001b[1;37m                 ^\u001b[0m\n\u001b[1;31mSyntaxError\u001b[0m\u001b[1;31m:\u001b[0m invalid syntax\n"
     ]
    }
   ],
   "source": [
    "import pandas as pd\n",
    "import numpy ads np\n",
    "import sklearn\n",
    "from sklearn import linear_model\n",
    "from sklearn.utils import shuffle"
   ]
  },
  {
   "cell_type": "code",
   "execution_count": 2,
   "id": "aff023f4",
   "metadata": {},
   "outputs": [],
   "source": [
    "import pandas as pd\n",
    "import numpy as np\n",
    "import sklearn\n",
    "from sklearn import linear_model\n",
    "from sklearn.utils import shuffle"
   ]
  },
  {
   "cell_type": "code",
   "execution_count": 3,
   "id": "2f476235",
   "metadata": {},
   "outputs": [
    {
     "ename": "SyntaxError",
     "evalue": "(unicode error) 'unicodeescape' codec can't decode bytes in position 2-3: truncated \\UXXXXXXXX escape (1191097326.py, line 1)",
     "output_type": "error",
     "traceback": [
      "\u001b[1;36m  Cell \u001b[1;32mIn[3], line 1\u001b[1;36m\u001b[0m\n\u001b[1;33m    data = pd.read_csv(\"C:\\Users\\Asus\\OneDrive\\Desktop\\Project\\Machine learning\\student_mat_2173a47420.csv\", sep=\";\")\u001b[0m\n\u001b[1;37m                                                                                                           ^\u001b[0m\n\u001b[1;31mSyntaxError\u001b[0m\u001b[1;31m:\u001b[0m (unicode error) 'unicodeescape' codec can't decode bytes in position 2-3: truncated \\UXXXXXXXX escape\n"
     ]
    }
   ],
   "source": [
    "data = pd.read_csv(\"C:\\Users\\Asus\\OneDrive\\Desktop\\Project\\Machine learning\\student_mat_2173a47420.csv\", sep=\";\")\n",
    "\n",
    "data = data[[\"G1\", \"G2\", \"G3\", \"studytime\", \"failures\", \"absences\"]]\n",
    "\n",
    "predict = \"G3\"\n",
    "\n",
    "X = np.array(data.drop([predict], 1))\n",
    "y = np.array(data[predict])\n",
    "\n",
    "x_train, x_test, y_train, y_test = sklearn.model_selection.train_test_split(X, y, test_size = 0.1)"
   ]
  },
  {
   "cell_type": "code",
   "execution_count": 4,
   "id": "e3bfc1ad",
   "metadata": {},
   "outputs": [
    {
     "name": "stderr",
     "output_type": "stream",
     "text": [
      "C:\\Users\\Asus\\AppData\\Local\\Temp\\ipykernel_20796\\4098225706.py:7: FutureWarning: In a future version of pandas all arguments of DataFrame.drop except for the argument 'labels' will be keyword-only.\n",
      "  X = np.array(data.drop([predict], 1))\n"
     ]
    }
   ],
   "source": [
    "data = pd.read_csv(\"C:\\\\Users\\\\Asus\\\\OneDrive\\\\Desktop\\\\Project\\\\Machine learning\\\\student_mat_2173a47420.csv\", sep=\";\")\n",
    "\n",
    "data = data[[\"G1\", \"G2\", \"G3\", \"studytime\", \"failures\", \"absences\"]]\n",
    "\n",
    "predict = \"G3\"\n",
    "\n",
    "X = np.array(data.drop([predict], 1))\n",
    "y = np.array(data[predict])\n",
    "\n",
    "x_train, x_test, y_train, y_test = sklearn.model_selection.train_test_split(X, y, test_size = 0.1)"
   ]
  },
  {
   "cell_type": "code",
   "execution_count": 5,
   "id": "44e5405f",
   "metadata": {},
   "outputs": [],
   "source": [
    "linear=linear_model.LinearRegression()"
   ]
  },
  {
   "cell_type": "code",
   "execution_count": 6,
   "id": "07faff1f",
   "metadata": {},
   "outputs": [
    {
     "name": "stdout",
     "output_type": "stream",
     "text": [
      "0.752353899603549\n"
     ]
    }
   ],
   "source": [
    "linear.fit(x_train,y_train)\n",
    "acc=linear.score(x_test,y_test)\n",
    "print(acc)"
   ]
  },
  {
   "cell_type": "code",
   "execution_count": 7,
   "id": "52287b3b",
   "metadata": {},
   "outputs": [
    {
     "name": "stdout",
     "output_type": "stream",
     "text": [
      "Coefficient: \n",
      " [ 0.14163284  0.98404513 -0.23106397 -0.38494903  0.03878329]\n",
      "Intercept: \n",
      " -1.3023859731909972\n"
     ]
    }
   ],
   "source": [
    "print('Coefficient: \\n', linear.coef_)\n",
    "print('Intercept: \\n', linear.intercept_)"
   ]
  },
  {
   "cell_type": "code",
   "execution_count": 8,
   "id": "eecff206",
   "metadata": {},
   "outputs": [
    {
     "name": "stdout",
     "output_type": "stream",
     "text": [
      "10.631444060582398 [10 11  2  0  4] 9\n",
      "6.25686469336443 [8 7 2 0 0] 8\n",
      "7.618126337098596 [ 9  8  2  1 16] 7\n",
      "8.444154376973414 [9 9 2 0 2] 10\n",
      "5.500466962051083 [7 7 2 2 4] 9\n",
      "12.5623048914809 [13 13  4  0  4] 12\n",
      "13.474696234396959 [14 13  1  0  6] 13\n",
      "19.039019819400096 [18 18  1  0  8] 18\n",
      "10.773076900160525 [11 11  2  0  4] 11\n",
      "5.973599014208175 [6 7 2 0 0] 0\n",
      "6.332262821585413 [ 7  8  2  3 10] 10\n",
      "10.70901064950674 [10 11  2  0  6] 11\n",
      "8.17843913539773 [ 9  9  2  2 15] 9\n",
      "7.981638753257121 [9 9 2 1 0] 0\n",
      "13.853344784127868 [13 14  2  0  0] 15\n",
      "8.380088126319627 [8 9 2 0 4] 10\n",
      "15.951203335843783 [15 16  3  0  2] 18\n",
      "9.878462904500335 [10 10  1  0  4] 10\n",
      "6.060349998023317 [ 7  6  1  0 18] 6\n",
      "8.023305957549047 [ 9  9  2  2 11] 9\n",
      "16.49089786771052 [15 16  1  0  4] 15\n",
      "8.801570069822722 [10 10  3  2  8] 10\n",
      "5.808237088692594 [7 7 4 0 4] 6\n",
      "6.789214387394022 [ 9  7  2  1 20] 8\n",
      "13.919046830083483 [14 14  3  0  4] 14\n",
      "9.115253000751375 [11  9  2  0 12] 9\n",
      "16.909883582157757 [17 17  4  0  0] 18\n",
      "10.695510311236184 [11 11  2  0  2] 11\n",
      "8.5082206276272 [10  9  2  0  0] 9\n",
      "12.129818838763104 [12 12  1  0  4] 13\n",
      "15.339855019339847 [16 15  2  0  2] 15\n",
      "8.067141622544334 [10  8  2  0 14] 9\n",
      "-1.7368166559335885 [4 0 1 2 0] 0\n",
      "11.833052821336294 [11 12  1  0  0] 10\n",
      "12.284952016611788 [12 12  1  0  8] 12\n",
      "13.696286750822324 [11 12  2  0 54] 11\n",
      "10.503229634227159 [11 11  3  0  3] 11\n",
      "9.262837579011089 [10 10  4  0  6] 11\n",
      "14.214177052208465 [15 14  2  0  2] 14\n",
      "7.945821293672372 [ 6  9  1  2 14] 8\n"
     ]
    }
   ],
   "source": [
    "predictions = linear.predict(x_test) # Gets a list of all predictions\n",
    "for x in range(len(predictions)):\n",
    "    print(predictions[x], x_test[x], y_test[x])"
   ]
  },
  {
   "cell_type": "code",
   "execution_count": null,
   "id": "ae5c05dd",
   "metadata": {},
   "outputs": [],
   "source": []
  }
 ],
 "metadata": {
  "kernelspec": {
   "display_name": "Python 3 (ipykernel)",
   "language": "python",
   "name": "python3"
  },
  "language_info": {
   "codemirror_mode": {
    "name": "ipython",
    "version": 3
   },
   "file_extension": ".py",
   "mimetype": "text/x-python",
   "name": "python",
   "nbconvert_exporter": "python",
   "pygments_lexer": "ipython3",
   "version": "3.11.4"
  }
 },
 "nbformat": 4,
 "nbformat_minor": 5
}
